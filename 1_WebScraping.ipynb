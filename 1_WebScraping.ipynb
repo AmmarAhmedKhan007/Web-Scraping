{
 "cells": [
  {
   "cell_type": "markdown",
   "metadata": {},
   "source": [
    "# Import libraries"
   ]
  },
  {
   "cell_type": "code",
   "execution_count": 1,
   "metadata": {},
   "outputs": [],
   "source": [
    "import requests\n",
    "from bs4 import BeautifulSoup"
   ]
  },
  {
   "cell_type": "code",
   "execution_count": 2,
   "metadata": {},
   "outputs": [],
   "source": [
    "url = \"https://www.codewithharry.com/\""
   ]
  },
  {
   "cell_type": "markdown",
   "metadata": {},
   "source": [
    "# Step 1: Get Html"
   ]
  },
  {
   "cell_type": "code",
   "execution_count": 3,
   "metadata": {},
   "outputs": [],
   "source": [
    "r = requests.get(url)\n",
    "htmlcontent = r.content\n",
    "# htmlcontent"
   ]
  },
  {
   "cell_type": "markdown",
   "metadata": {},
   "source": [
    "# Step 2: Parse the HTml"
   ]
  },
  {
   "cell_type": "code",
   "execution_count": 4,
   "metadata": {},
   "outputs": [],
   "source": [
    "soup = BeautifulSoup(htmlcontent, 'html.parser')\n",
    "# soup.prettify                       # prettify use for Khoobsurat"
   ]
  },
  {
   "cell_type": "markdown",
   "metadata": {},
   "source": [
    "# Step 3: HTml Tree Traversal"
   ]
  },
  {
   "cell_type": "markdown",
   "metadata": {},
   "source": [
    "### Commonly Used types of Objects\n",
    "1- Tag :  \n",
    "- print(type(title))\n",
    "\n",
    "2- NavigableString : \n",
    "- print(type(title.string))\n",
    "\n",
    "3- BeautifulSoup :  \n",
    "- rint(type(title.soup))\n",
    "  \n",
    "4- Comment"
   ]
  },
  {
   "cell_type": "markdown",
   "metadata": {},
   "source": [
    "## Get the Title of HTml page"
   ]
  },
  {
   "cell_type": "code",
   "execution_count": 5,
   "metadata": {},
   "outputs": [
    {
     "data": {
      "text/plain": [
       "<title>Learn to code online - CodeWithHarry</title>"
      ]
     },
     "execution_count": 5,
     "metadata": {},
     "output_type": "execute_result"
    }
   ],
   "source": [
    "title = soup.title\n",
    "title"
   ]
  },
  {
   "cell_type": "markdown",
   "metadata": {},
   "source": [
    "## Get Paragraphs from page"
   ]
  },
  {
   "cell_type": "code",
   "execution_count": 6,
   "metadata": {},
   "outputs": [],
   "source": [
    "paragraphs = soup.find_all('p')\n",
    "# paragraphs"
   ]
  },
  {
   "cell_type": "markdown",
   "metadata": {},
   "source": [
    "## Get Anchor tags from page"
   ]
  },
  {
   "cell_type": "code",
   "execution_count": 7,
   "metadata": {},
   "outputs": [],
   "source": [
    "anchor = soup.find_all('a')\n",
    "# anchor"
   ]
  },
  {
   "cell_type": "markdown",
   "metadata": {},
   "source": [
    "## Get Links from Page"
   ]
  },
  {
   "cell_type": "code",
   "execution_count": 8,
   "metadata": {},
   "outputs": [
    {
     "name": "stdout",
     "output_type": "stream",
     "text": [
      "https://www.codewithharry.com//\n",
      "https://www.codewithharry.com//\n",
      "https://www.codewithharry.com//videos/\n",
      "https://www.codewithharry.com//tutorial/html-home/\n",
      "https://www.codewithharry.com//blogs/\n",
      "https://www.codewithharry.com//contact/\n",
      "https://www.codewithharry.com//tutorial/html-home/\n",
      "https://www.codewithharry.com//tutorial/css-home/\n",
      "https://www.codewithharry.com//tutorial/js/\n",
      "https://www.codewithharry.com//tutorial/c/\n",
      "https://www.codewithharry.com//tutorial/cplusplus/\n",
      "https://www.codewithharry.com//tutorial/java/\n",
      "https://www.codewithharry.com//tutorial/python/\n",
      "https://www.codewithharry.com//tutorial/tailwind/\n",
      "https://www.codewithharry.com//tutorial/reactjs/\n",
      "https://www.codewithharry.com//tutorial/nextjs/\n",
      "https://www.codewithharry.com//\n",
      "https://www.codewithharry.com//videos/\n",
      "https://www.codewithharry.com//tutorial/html-home/\n",
      "https://www.codewithharry.com//tutorial/css-home/\n",
      "https://www.codewithharry.com//tutorial/js/\n",
      "https://www.codewithharry.com//tutorial/c/\n",
      "https://www.codewithharry.com//tutorial/cplusplus/\n",
      "https://www.codewithharry.com//tutorial/java/\n",
      "https://www.codewithharry.com//tutorial/python/\n",
      "https://www.codewithharry.com//tutorial/tailwind/\n",
      "https://www.codewithharry.com//tutorial/reactjs/\n",
      "https://www.codewithharry.com//tutorial/nextjs/\n",
      "https://www.codewithharry.com//blogs/\n",
      "https://www.codewithharry.com//contact/\n",
      "https://www.codewithharry.com//work/\n",
      "https://www.codewithharry.com/https://www.facebook.com/codewithharry\n",
      "https://www.codewithharry.com/https://www.twitter.com/codewithharry\n",
      "https://www.codewithharry.com/https://www.instagram.com/codewithharry\n",
      "https://www.codewithharry.com/https://www.github.com/codewithharry\n"
     ]
    }
   ],
   "source": [
    "all_links =set()\n",
    "for link in anchor:\n",
    "    if (link.get('href') != '#'):\n",
    "        linktext =\"https://www.codewithharry.com/\"+ link.get('href')\n",
    "        all_links.add(link)\n",
    "        print(linktext)\n"
   ]
  },
  {
   "cell_type": "markdown",
   "metadata": {},
   "source": [
    "## Get first element"
   ]
  },
  {
   "cell_type": "code",
   "execution_count": 9,
   "metadata": {},
   "outputs": [
    {
     "data": {
      "text/plain": [
       "<p class=\"mt-2 text-sm text-gray-500 md:text-base\">Confused on which course to take? I have got you covered. Browse courses and find out the best course for you. Its free! Code With Harry is my attempt to teach basics and those coding techniques to people in short time which took me ages to learn.</p>"
      ]
     },
     "execution_count": 9,
     "metadata": {},
     "output_type": "execute_result"
    }
   ],
   "source": [
    "soup.find('p')"
   ]
  },
  {
   "cell_type": "markdown",
   "metadata": {},
   "source": [
    "## Get class"
   ]
  },
  {
   "cell_type": "code",
   "execution_count": 10,
   "metadata": {},
   "outputs": [
    {
     "data": {
      "text/plain": [
       "['mt-2', 'text-sm', 'text-gray-500', 'md:text-base']"
      ]
     },
     "execution_count": 10,
     "metadata": {},
     "output_type": "execute_result"
    }
   ],
   "source": [
    "soup.find('p')['class']"
   ]
  },
  {
   "cell_type": "markdown",
   "metadata": {},
   "source": [
    "## Find element of specific class"
   ]
  },
  {
   "cell_type": "code",
   "execution_count": 11,
   "metadata": {},
   "outputs": [
    {
     "data": {
      "text/plain": [
       "[<p class=\"mt-2 text-sm text-gray-500 md:text-base\">Confused on which course to take? I have got you covered. Browse courses and find out the best course for you. Its free! Code With Harry is my attempt to teach basics and those coding techniques to people in short time which took me ages to learn.</p>]"
      ]
     },
     "execution_count": 11,
     "metadata": {},
     "output_type": "execute_result"
    }
   ],
   "source": [
    "soup.find_all('p', class_=\"mt-2\")"
   ]
  },
  {
   "cell_type": "markdown",
   "metadata": {},
   "source": [
    "## Get text from Tags/Soup"
   ]
  },
  {
   "cell_type": "code",
   "execution_count": 12,
   "metadata": {},
   "outputs": [
    {
     "data": {
      "text/plain": [
       "'Confused on which course to take? I have got you covered. Browse courses and find out the best course for you. Its free! Code With Harry is my attempt to teach basics and those coding techniques to people in short time which took me ages to learn.'"
      ]
     },
     "execution_count": 12,
     "metadata": {},
     "output_type": "execute_result"
    }
   ],
   "source": [
    "soup.find('p').get_text()"
   ]
  },
  {
   "cell_type": "code",
   "execution_count": 13,
   "metadata": {},
   "outputs": [
    {
     "data": {
      "text/plain": [
       "\"Learn to code online - CodeWithHarryCodeWithHarryMenuLoginHomeCoursesTutorialBlogContactWorkWithHarryLoginSignupHTMLCSSJSCC++JAVAPYTHONTAILWINDREACTJSNEXTJSHomeCoursesTutorial HTMLCSSJSCC++JAVAPYTHONTAILWINDREACTJSNEXTJSBlogContactWorkWithHarryWelcome to CodeWithHarryConfused on which course to take? I have got you covered. Browse courses and find out the best course for you. Its free! Code With Harry is my attempt to teach basics and those coding techniques to people in short time which took me ages to learn.Free CoursesExplore BlogRecommended CoursesFree CourseTailwind Course In HindiComplete Tailwind CSS Course by CodeWithHarry in Hindi - Learn Tailwind CSS from scratch for free!  Start WatchingFree CourseNext.js Tutorials For BeginnersComplete Next.js Course by CodeWithHarry in Hindi - Learn Next.js from Scratch. Start WatchingFree CourseReact Js Tutorials For BeginnersReact is a free and open-source front-end JavaScript library. This series will cover React from starting to the end. We will learn react from the ground up! Start WatchingTestimonialsI don't have words to thank this man, I'm really grateful to have this channel and website in my daily routine. If you're a mere beginner, then you can trust this guy and can put your time into his content. I can assure you that it'll be worth it.Mohit KumarWeb DeveloperFor everyone who wants to level up their #Coding and #Dev skills - seriously, this channel is for you! Both basic and advanced stacks are covered on this channel, and one can learn according to his skill levels. And the icing on the cake is, everything is available for free.Rakesh ShettyWeb DeveloperCodeWithHarryCopyright © 2022 CodeWithHarry.com\""
      ]
     },
     "execution_count": 13,
     "metadata": {},
     "output_type": "execute_result"
    }
   ],
   "source": [
    "soup.get_text()"
   ]
  },
  {
   "cell_type": "markdown",
   "metadata": {},
   "source": [
    "## Find content of Specific ID"
   ]
  },
  {
   "cell_type": "code",
   "execution_count": 15,
   "metadata": {},
   "outputs": [
    {
     "data": {
      "text/plain": [
       "[<svg class=\"fill-current pointer-events-none text-grey-darkest w-4 h-4 inline\" viewbox=\"0 0 20 20\" xmlns=\"http://www.w3.org/2000/svg\"><path d=\"M12.9 14.32a8 8 0 1 1 1.41-1.41l5.35 5.33-1.42 1.42-5.33-5.34zM8 14A6 6 0 1 0 8 2a6 6 0 0 0 0 12z\"></path></svg>]"
      ]
     },
     "execution_count": 15,
     "metadata": {},
     "output_type": "execute_result"
    }
   ],
   "source": [
    "code = soup.find(id=\"search-toggle\" )\n",
    "code.contents"
   ]
  },
  {
   "cell_type": "code",
   "execution_count": 23,
   "metadata": {},
   "outputs": [],
   "source": [
    "# for item in code.strings:\n",
    "#     print(item)"
   ]
  },
  {
   "cell_type": "code",
   "execution_count": 25,
   "metadata": {},
   "outputs": [
    {
     "data": {
      "text/plain": [
       "<ul class=\"flex items-center flex-col lg:flex-row\"><div class=\"search-icon cursor-pointer px-6 hidden\" id=\"search-toggle\"><svg class=\"fill-current pointer-events-none text-grey-darkest w-4 h-4 inline\" viewbox=\"0 0 20 20\" xmlns=\"http://www.w3.org/2000/svg\"><path d=\"M12.9 14.32a8 8 0 1 1 1.41-1.41l5.35 5.33-1.42 1.42-5.33-5.34zM8 14A6 6 0 1 0 8 2a6 6 0 0 0 0 12z\"></path></svg></div><li class=\"mx-2 my-2 text-black hover:border-b-2 hover:border-purple-700\"><a href=\"/\">Home</a></li><li class=\"mx-2 my-2 text-black hover:border-b-2 hover:border-purple-700\"><a href=\"/videos/\">Courses</a></li><li class=\"mx-2 my-2 text-black hover:border-b-2 hover:border-purple-700\"><a href=\"/tutorial/html-home/\">Tutorial</a></li><li class=\"mx-2 my-2 text-black hover:border-b-2 hover:border-purple-700\"><a href=\"/blogs/\">Blog</a></li><li class=\"mx-2 my-2 text-black hover:border-b-2 hover:border-purple-700\"><a href=\"/contact/\">Contact</a></li><button class=\"ml-2 text-white bg-purple-700 hover:bg-purple-800 focus:ring-4 focus:ring-purple-300 font-medium rounded-lg text-sm px-3 py-2 text-center inline-flex items-center\">WorkWithHarry</button></ul>"
      ]
     },
     "execution_count": 25,
     "metadata": {},
     "output_type": "execute_result"
    }
   ],
   "source": [
    "code.parent\n",
    "# for item in code.parents:\n",
    "#     item.name\n",
    "#code.next_sibling\n",
    "#code.previous_sibling"
   ]
  }
 ],
 "metadata": {
  "kernelspec": {
   "display_name": "Python 3.9.6 64-bit",
   "language": "python",
   "name": "python3"
  },
  "language_info": {
   "codemirror_mode": {
    "name": "ipython",
    "version": 3
   },
   "file_extension": ".py",
   "mimetype": "text/x-python",
   "name": "python",
   "nbconvert_exporter": "python",
   "pygments_lexer": "ipython3",
   "version": "3.9.6"
  },
  "orig_nbformat": 4,
  "vscode": {
   "interpreter": {
    "hash": "966b0e9677715582968ff08d39d121a0f8b2fdf88b00be727b9743268e0f48b0"
   }
  }
 },
 "nbformat": 4,
 "nbformat_minor": 2
}
